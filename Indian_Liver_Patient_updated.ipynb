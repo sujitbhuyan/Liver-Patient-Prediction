{
 "cells": [
  {
   "cell_type": "markdown",
   "id": "de855925",
   "metadata": {},
   "source": [
    "## Liver Disease Prediction"
   ]
  },
  {
   "cell_type": "markdown",
   "id": "fc8242e9",
   "metadata": {},
   "source": [
    "Problem Statement\n",
    "\n",
    "Task 1:-Prepare a complete data analysis report on the given data.\n",
    "\n",
    "Task 2:-Create a predictive model with implementation of  different classifiers on liver patient diseases dataset to predict liver diseases.\n",
    "\n",
    "Task3:- Create an analysis to show on what basis you have designed your model.  \n"
   ]
  },
  {
   "cell_type": "code",
   "execution_count": 1,
   "id": "d5f62604",
   "metadata": {},
   "outputs": [],
   "source": [
    "import pandas as pd\n",
    "import itertools \n",
    "import numpy as np\n",
    "import matplotlib.pyplot as plt\n",
    "from sklearn import preprocessing\n",
    "%matplotlib inline\n",
    "import warnings\n",
    "warnings.filterwarnings('ignore')"
   ]
  },
  {
   "cell_type": "markdown",
   "id": "de37e577",
   "metadata": {},
   "source": [
    "### Import dataset"
   ]
  },
  {
   "cell_type": "code",
   "execution_count": 2,
   "id": "751e157d",
   "metadata": {},
   "outputs": [
    {
     "name": "stdout",
     "output_type": "stream",
     "text": [
      "\n",
      "Original file:\n",
      "     65 Female   0.7  0.1  187  16   18  6.8  3.3   0.9  1\n",
      "0    62   Male  10.9  5.5  699  64  100  7.5  3.2  0.74  1\n",
      "1    62   Male   7.3  4.1  490  60   68  7.0  3.3  0.89  1\n",
      "2    58   Male   1.0  0.4  182  14   20  6.8  3.4  1.00  1\n",
      "3    72   Male   3.9  2.0  195  27   59  7.3  2.4  0.40  1\n",
      "4    46   Male   1.8  0.7  208  19   14  7.6  4.4  1.30  1\n",
      "..   ..    ...   ...  ...  ...  ..  ...  ...  ...   ... ..\n",
      "577  60   Male   0.5  0.1  500  20   34  5.9  1.6  0.37  2\n",
      "578  40   Male   0.6  0.1   98  35   31  6.0  3.2  1.10  1\n",
      "579  52   Male   0.8  0.2  245  48   49  6.4  3.2  1.00  1\n",
      "580  31   Male   1.3  0.5  184  29   32  6.8  3.4  1.00  1\n",
      "581  38   Male   1.0  0.3  216  21   24  7.3  4.4  1.50  2\n",
      "\n",
      "[582 rows x 11 columns]\n"
     ]
    }
   ],
   "source": [
    "liver_data_train = pd.read_csv('Indian_Liver_Patient.csv')\n",
    "print(\"\\nOriginal file:\")\n",
    "print(liver_data_train)"
   ]
  },
  {
   "cell_type": "code",
   "execution_count": 3,
   "id": "22e9f42c",
   "metadata": {},
   "outputs": [
    {
     "name": "stdout",
     "output_type": "stream",
     "text": [
      "\n",
      "Modified file:\n",
      "     Age_of_the_patient Gender_of_the_patient  Total_Bilirubin  \\\n",
      "0                    62                  Male             10.9   \n",
      "1                    62                  Male              7.3   \n",
      "2                    58                  Male              1.0   \n",
      "3                    72                  Male              3.9   \n",
      "4                    46                  Male              1.8   \n",
      "..                  ...                   ...              ...   \n",
      "577                  60                  Male              0.5   \n",
      "578                  40                  Male              0.6   \n",
      "579                  52                  Male              0.8   \n",
      "580                  31                  Male              1.3   \n",
      "581                  38                  Male              1.0   \n",
      "\n",
      "     Direct_Bilirubin  Alkaline_Phosphotase  Alamine_Aminotransferase  \\\n",
      "0                 5.5                   699                        64   \n",
      "1                 4.1                   490                        60   \n",
      "2                 0.4                   182                        14   \n",
      "3                 2.0                   195                        27   \n",
      "4                 0.7                   208                        19   \n",
      "..                ...                   ...                       ...   \n",
      "577               0.1                   500                        20   \n",
      "578               0.1                    98                        35   \n",
      "579               0.2                   245                        48   \n",
      "580               0.5                   184                        29   \n",
      "581               0.3                   216                        21   \n",
      "\n",
      "     Aspartate_Aminotransferase  Total_Protiens  Albumin  \\\n",
      "0                           100             7.5      3.2   \n",
      "1                            68             7.0      3.3   \n",
      "2                            20             6.8      3.4   \n",
      "3                            59             7.3      2.4   \n",
      "4                            14             7.6      4.4   \n",
      "..                          ...             ...      ...   \n",
      "577                          34             5.9      1.6   \n",
      "578                          31             6.0      3.2   \n",
      "579                          49             6.4      3.2   \n",
      "580                          32             6.8      3.4   \n",
      "581                          24             7.3      4.4   \n",
      "\n",
      "     Albumin_and_Globulin_Ratio  Target  \n",
      "0                          0.74       1  \n",
      "1                          0.89       1  \n",
      "2                          1.00       1  \n",
      "3                          0.40       1  \n",
      "4                          1.30       1  \n",
      "..                          ...     ...  \n",
      "577                        0.37       2  \n",
      "578                        1.10       1  \n",
      "579                        1.00       1  \n",
      "580                        1.00       1  \n",
      "581                        1.50       2  \n",
      "\n",
      "[582 rows x 11 columns]\n"
     ]
    }
   ],
   "source": [
    "# List of column headers\n",
    "headerList = ['Age_of_the_patient', 'Gender_of_the_patient', 'Total_Bilirubin', 'Direct_Bilirubin','Alkaline_Phosphotase',\n",
    "          'Alamine_Aminotransferase','Aspartate_Aminotransferase','Total_Protiens','Albumin','Albumin_and_Globulin_Ratio',\n",
    "          'Target']\n",
    "\n",
    "# converting data frame to csv\n",
    "liver_data_train.to_csv(\"Indian_Liver_Patient_new.csv\", header=headerList, index=False)\n",
    "\n",
    "# display modified csv file\n",
    "file2 = pd.read_csv(\"Indian_Liver_Patient_new.csv\")\n",
    "print('\\nModified file:')\n",
    "print(file2)"
   ]
  },
  {
   "cell_type": "code",
   "execution_count": 4,
   "id": "7f90e2d9",
   "metadata": {},
   "outputs": [
    {
     "data": {
      "text/html": [
       "<div>\n",
       "<style scoped>\n",
       "    .dataframe tbody tr th:only-of-type {\n",
       "        vertical-align: middle;\n",
       "    }\n",
       "\n",
       "    .dataframe tbody tr th {\n",
       "        vertical-align: top;\n",
       "    }\n",
       "\n",
       "    .dataframe thead th {\n",
       "        text-align: right;\n",
       "    }\n",
       "</style>\n",
       "<table border=\"1\" class=\"dataframe\">\n",
       "  <thead>\n",
       "    <tr style=\"text-align: right;\">\n",
       "      <th></th>\n",
       "      <th>Age_of_the_patient</th>\n",
       "      <th>Gender_of_the_patient</th>\n",
       "      <th>Total_Bilirubin</th>\n",
       "      <th>Direct_Bilirubin</th>\n",
       "      <th>Alkaline_Phosphotase</th>\n",
       "      <th>Alamine_Aminotransferase</th>\n",
       "      <th>Aspartate_Aminotransferase</th>\n",
       "      <th>Total_Protiens</th>\n",
       "      <th>Albumin</th>\n",
       "      <th>Albumin_and_Globulin_Ratio</th>\n",
       "      <th>Target</th>\n",
       "    </tr>\n",
       "  </thead>\n",
       "  <tbody>\n",
       "    <tr>\n",
       "      <th>0</th>\n",
       "      <td>62</td>\n",
       "      <td>Male</td>\n",
       "      <td>10.9</td>\n",
       "      <td>5.5</td>\n",
       "      <td>699</td>\n",
       "      <td>64</td>\n",
       "      <td>100</td>\n",
       "      <td>7.5</td>\n",
       "      <td>3.2</td>\n",
       "      <td>0.74</td>\n",
       "      <td>1</td>\n",
       "    </tr>\n",
       "    <tr>\n",
       "      <th>1</th>\n",
       "      <td>62</td>\n",
       "      <td>Male</td>\n",
       "      <td>7.3</td>\n",
       "      <td>4.1</td>\n",
       "      <td>490</td>\n",
       "      <td>60</td>\n",
       "      <td>68</td>\n",
       "      <td>7.0</td>\n",
       "      <td>3.3</td>\n",
       "      <td>0.89</td>\n",
       "      <td>1</td>\n",
       "    </tr>\n",
       "    <tr>\n",
       "      <th>2</th>\n",
       "      <td>58</td>\n",
       "      <td>Male</td>\n",
       "      <td>1.0</td>\n",
       "      <td>0.4</td>\n",
       "      <td>182</td>\n",
       "      <td>14</td>\n",
       "      <td>20</td>\n",
       "      <td>6.8</td>\n",
       "      <td>3.4</td>\n",
       "      <td>1.00</td>\n",
       "      <td>1</td>\n",
       "    </tr>\n",
       "    <tr>\n",
       "      <th>3</th>\n",
       "      <td>72</td>\n",
       "      <td>Male</td>\n",
       "      <td>3.9</td>\n",
       "      <td>2.0</td>\n",
       "      <td>195</td>\n",
       "      <td>27</td>\n",
       "      <td>59</td>\n",
       "      <td>7.3</td>\n",
       "      <td>2.4</td>\n",
       "      <td>0.40</td>\n",
       "      <td>1</td>\n",
       "    </tr>\n",
       "    <tr>\n",
       "      <th>4</th>\n",
       "      <td>46</td>\n",
       "      <td>Male</td>\n",
       "      <td>1.8</td>\n",
       "      <td>0.7</td>\n",
       "      <td>208</td>\n",
       "      <td>19</td>\n",
       "      <td>14</td>\n",
       "      <td>7.6</td>\n",
       "      <td>4.4</td>\n",
       "      <td>1.30</td>\n",
       "      <td>1</td>\n",
       "    </tr>\n",
       "  </tbody>\n",
       "</table>\n",
       "</div>"
      ],
      "text/plain": [
       "   Age_of_the_patient Gender_of_the_patient  Total_Bilirubin  \\\n",
       "0                  62                  Male             10.9   \n",
       "1                  62                  Male              7.3   \n",
       "2                  58                  Male              1.0   \n",
       "3                  72                  Male              3.9   \n",
       "4                  46                  Male              1.8   \n",
       "\n",
       "   Direct_Bilirubin  Alkaline_Phosphotase  Alamine_Aminotransferase  \\\n",
       "0               5.5                   699                        64   \n",
       "1               4.1                   490                        60   \n",
       "2               0.4                   182                        14   \n",
       "3               2.0                   195                        27   \n",
       "4               0.7                   208                        19   \n",
       "\n",
       "   Aspartate_Aminotransferase  Total_Protiens  Albumin  \\\n",
       "0                         100             7.5      3.2   \n",
       "1                          68             7.0      3.3   \n",
       "2                          20             6.8      3.4   \n",
       "3                          59             7.3      2.4   \n",
       "4                          14             7.6      4.4   \n",
       "\n",
       "   Albumin_and_Globulin_Ratio  Target  \n",
       "0                        0.74       1  \n",
       "1                        0.89       1  \n",
       "2                        1.00       1  \n",
       "3                        0.40       1  \n",
       "4                        1.30       1  "
      ]
     },
     "execution_count": 4,
     "metadata": {},
     "output_type": "execute_result"
    }
   ],
   "source": [
    "file2.head()"
   ]
  },
  {
   "cell_type": "code",
   "execution_count": 5,
   "id": "fee64f8f",
   "metadata": {},
   "outputs": [
    {
     "data": {
      "text/plain": [
       "(582, 11)"
      ]
     },
     "execution_count": 5,
     "metadata": {},
     "output_type": "execute_result"
    }
   ],
   "source": [
    "file2.shape"
   ]
  },
  {
   "cell_type": "code",
   "execution_count": 6,
   "id": "1c933369",
   "metadata": {},
   "outputs": [
    {
     "data": {
      "text/plain": [
       "1    415\n",
       "2    167\n",
       "Name: Target, dtype: int64"
      ]
     },
     "execution_count": 6,
     "metadata": {},
     "output_type": "execute_result"
    }
   ],
   "source": [
    "file2['Target'].value_counts()"
   ]
  },
  {
   "cell_type": "code",
   "execution_count": 7,
   "id": "91df8e0d",
   "metadata": {},
   "outputs": [
    {
     "data": {
      "image/png": "[encoded data removed]",
      "text/plain": [
       "<Figure size 640x480 with 1 Axes>"
      ]
     },
     "metadata": {},
     "output_type": "display_data"
    }
   ],
   "source": [
    "import seaborn as sns\n",
    "sns.countplot(x='Target', data = file2)\n",
    "plt.show()"
   ]
  },
  {
   "cell_type": "markdown",
   "id": "cb91f5bd",
   "metadata": {},
   "source": [
    "#### 1 : patient with  liver disease and 2: patient with no liver disease disease"
   ]
  },
  {
   "cell_type": "code",
   "execution_count": 8,
   "id": "ee0641b1",
   "metadata": {},
   "outputs": [],
   "source": [
    "# Split the data into features and target label\n",
    "liver_data_labels = file2['Target']\n",
    "# Drop label feature\n",
    "liver_data_features = file2.drop(['Target'], axis=1)\n",
    "# liver_data_features.head()"
   ]
  },
  {
   "cell_type": "code",
   "execution_count": 9,
   "id": "39c7e2d3",
   "metadata": {},
   "outputs": [
    {
     "name": "stdout",
     "output_type": "stream",
     "text": [
      "<class 'pandas.core.frame.DataFrame'>\n",
      "RangeIndex: 582 entries, 0 to 581\n",
      "Data columns (total 11 columns):\n",
      " #   Column                      Non-Null Count  Dtype  \n",
      "---  ------                      --------------  -----  \n",
      " 0   Age_of_the_patient          582 non-null    int64  \n",
      " 1   Gender_of_the_patient       582 non-null    object \n",
      " 2   Total_Bilirubin             582 non-null    float64\n",
      " 3   Direct_Bilirubin            582 non-null    float64\n",
      " 4   Alkaline_Phosphotase        582 non-null    int64  \n",
      " 5   Alamine_Aminotransferase    582 non-null    int64  \n",
      " 6   Aspartate_Aminotransferase  582 non-null    int64  \n",
      " 7   Total_Protiens              582 non-null    float64\n",
      " 8   Albumin                     582 non-null    float64\n",
      " 9   Albumin_and_Globulin_Ratio  578 non-null    float64\n",
      " 10  Target                      582 non-null    int64  \n",
      "dtypes: float64(5), int64(5), object(1)\n",
      "memory usage: 50.1+ KB\n"
     ]
    }
   ],
   "source": [
    "file2.info()"
   ]
  },
  {
   "cell_type": "markdown",
   "id": "73abd854",
   "metadata": {},
   "source": [
    "### Missing values"
   ]
  },
  {
   "cell_type": "code",
   "execution_count": 10,
   "id": "5c6a40c2",
   "metadata": {},
   "outputs": [
    {
     "data": {
      "text/html": [
       "<div>\n",
       "<style scoped>\n",
       "    .dataframe tbody tr th:only-of-type {\n",
       "        vertical-align: middle;\n",
       "    }\n",
       "\n",
       "    .dataframe tbody tr th {\n",
       "        vertical-align: top;\n",
       "    }\n",
       "\n",
       "    .dataframe thead th {\n",
       "        text-align: right;\n",
       "    }\n",
       "</style>\n",
       "<table border=\"1\" class=\"dataframe\">\n",
       "  <thead>\n",
       "    <tr style=\"text-align: right;\">\n",
       "      <th></th>\n",
       "      <th>Age_of_the_patient</th>\n",
       "      <th>Gender_of_the_patient</th>\n",
       "      <th>Total_Bilirubin</th>\n",
       "      <th>Direct_Bilirubin</th>\n",
       "      <th>Alkaline_Phosphotase</th>\n",
       "      <th>Alamine_Aminotransferase</th>\n",
       "      <th>Aspartate_Aminotransferase</th>\n",
       "      <th>Total_Protiens</th>\n",
       "      <th>Albumin</th>\n",
       "      <th>Albumin_and_Globulin_Ratio</th>\n",
       "    </tr>\n",
       "  </thead>\n",
       "  <tbody>\n",
       "    <tr>\n",
       "      <th>208</th>\n",
       "      <td>45</td>\n",
       "      <td>Female</td>\n",
       "      <td>0.9</td>\n",
       "      <td>0.3</td>\n",
       "      <td>189</td>\n",
       "      <td>23</td>\n",
       "      <td>33</td>\n",
       "      <td>6.6</td>\n",
       "      <td>3.9</td>\n",
       "      <td>NaN</td>\n",
       "    </tr>\n",
       "    <tr>\n",
       "      <th>240</th>\n",
       "      <td>51</td>\n",
       "      <td>Male</td>\n",
       "      <td>0.8</td>\n",
       "      <td>0.2</td>\n",
       "      <td>230</td>\n",
       "      <td>24</td>\n",
       "      <td>46</td>\n",
       "      <td>6.5</td>\n",
       "      <td>3.1</td>\n",
       "      <td>NaN</td>\n",
       "    </tr>\n",
       "    <tr>\n",
       "      <th>252</th>\n",
       "      <td>35</td>\n",
       "      <td>Female</td>\n",
       "      <td>0.6</td>\n",
       "      <td>0.2</td>\n",
       "      <td>180</td>\n",
       "      <td>12</td>\n",
       "      <td>15</td>\n",
       "      <td>5.2</td>\n",
       "      <td>2.7</td>\n",
       "      <td>NaN</td>\n",
       "    </tr>\n",
       "    <tr>\n",
       "      <th>311</th>\n",
       "      <td>27</td>\n",
       "      <td>Male</td>\n",
       "      <td>1.3</td>\n",
       "      <td>0.6</td>\n",
       "      <td>106</td>\n",
       "      <td>25</td>\n",
       "      <td>54</td>\n",
       "      <td>8.5</td>\n",
       "      <td>4.8</td>\n",
       "      <td>NaN</td>\n",
       "    </tr>\n",
       "  </tbody>\n",
       "</table>\n",
       "</div>"
      ],
      "text/plain": [
       "     Age_of_the_patient Gender_of_the_patient  Total_Bilirubin  \\\n",
       "208                  45                Female              0.9   \n",
       "240                  51                  Male              0.8   \n",
       "252                  35                Female              0.6   \n",
       "311                  27                  Male              1.3   \n",
       "\n",
       "     Direct_Bilirubin  Alkaline_Phosphotase  Alamine_Aminotransferase  \\\n",
       "208               0.3                   189                        23   \n",
       "240               0.2                   230                        24   \n",
       "252               0.2                   180                        12   \n",
       "311               0.6                   106                        25   \n",
       "\n",
       "     Aspartate_Aminotransferase  Total_Protiens  Albumin  \\\n",
       "208                          33             6.6      3.9   \n",
       "240                          46             6.5      3.1   \n",
       "252                          15             5.2      2.7   \n",
       "311                          54             8.5      4.8   \n",
       "\n",
       "     Albumin_and_Globulin_Ratio  \n",
       "208                         NaN  \n",
       "240                         NaN  \n",
       "252                         NaN  \n",
       "311                         NaN  "
      ]
     },
     "metadata": {},
     "output_type": "display_data"
    }
   ],
   "source": [
    "display(liver_data_features[liver_data_features['Albumin_and_Globulin_Ratio'].isnull()])"
   ]
  },
  {
   "cell_type": "markdown",
   "id": "e160a7bf",
   "metadata": {},
   "source": [
    "### Fill missing values with median value"
   ]
  },
  {
   "cell_type": "code",
   "execution_count": 11,
   "id": "85e6f38b",
   "metadata": {},
   "outputs": [
    {
     "data": {
      "text/html": [
       "<div>\n",
       "<style scoped>\n",
       "    .dataframe tbody tr th:only-of-type {\n",
       "        vertical-align: middle;\n",
       "    }\n",
       "\n",
       "    .dataframe tbody tr th {\n",
       "        vertical-align: top;\n",
       "    }\n",
       "\n",
       "    .dataframe thead th {\n",
       "        text-align: right;\n",
       "    }\n",
       "</style>\n",
       "<table border=\"1\" class=\"dataframe\">\n",
       "  <thead>\n",
       "    <tr style=\"text-align: right;\">\n",
       "      <th></th>\n",
       "      <th>Age_of_the_patient</th>\n",
       "      <th>Gender_of_the_patient</th>\n",
       "      <th>Total_Bilirubin</th>\n",
       "      <th>Direct_Bilirubin</th>\n",
       "      <th>Alkaline_Phosphotase</th>\n",
       "      <th>Alamine_Aminotransferase</th>\n",
       "      <th>Aspartate_Aminotransferase</th>\n",
       "      <th>Total_Protiens</th>\n",
       "      <th>Albumin</th>\n",
       "      <th>Albumin_and_Globulin_Ratio</th>\n",
       "    </tr>\n",
       "  </thead>\n",
       "  <tbody>\n",
       "    <tr>\n",
       "      <th>209</th>\n",
       "      <td>28</td>\n",
       "      <td>Male</td>\n",
       "      <td>0.8</td>\n",
       "      <td>0.3</td>\n",
       "      <td>190</td>\n",
       "      <td>20</td>\n",
       "      <td>14</td>\n",
       "      <td>4.1</td>\n",
       "      <td>2.4</td>\n",
       "      <td>1.4</td>\n",
       "    </tr>\n",
       "    <tr>\n",
       "      <th>241</th>\n",
       "      <td>29</td>\n",
       "      <td>Female</td>\n",
       "      <td>0.8</td>\n",
       "      <td>0.2</td>\n",
       "      <td>205</td>\n",
       "      <td>30</td>\n",
       "      <td>23</td>\n",
       "      <td>8.2</td>\n",
       "      <td>4.1</td>\n",
       "      <td>1.0</td>\n",
       "    </tr>\n",
       "    <tr>\n",
       "      <th>253</th>\n",
       "      <td>38</td>\n",
       "      <td>Female</td>\n",
       "      <td>0.7</td>\n",
       "      <td>0.1</td>\n",
       "      <td>152</td>\n",
       "      <td>90</td>\n",
       "      <td>21</td>\n",
       "      <td>7.1</td>\n",
       "      <td>4.2</td>\n",
       "      <td>1.4</td>\n",
       "    </tr>\n",
       "    <tr>\n",
       "      <th>312</th>\n",
       "      <td>30</td>\n",
       "      <td>Female</td>\n",
       "      <td>0.8</td>\n",
       "      <td>0.2</td>\n",
       "      <td>158</td>\n",
       "      <td>25</td>\n",
       "      <td>22</td>\n",
       "      <td>7.9</td>\n",
       "      <td>4.5</td>\n",
       "      <td>1.3</td>\n",
       "    </tr>\n",
       "  </tbody>\n",
       "</table>\n",
       "</div>"
      ],
      "text/plain": [
       "     Age_of_the_patient Gender_of_the_patient  Total_Bilirubin  \\\n",
       "209                  28                  Male              0.8   \n",
       "241                  29                Female              0.8   \n",
       "253                  38                Female              0.7   \n",
       "312                  30                Female              0.8   \n",
       "\n",
       "     Direct_Bilirubin  Alkaline_Phosphotase  Alamine_Aminotransferase  \\\n",
       "209               0.3                   190                        20   \n",
       "241               0.2                   205                        30   \n",
       "253               0.1                   152                        90   \n",
       "312               0.2                   158                        25   \n",
       "\n",
       "     Aspartate_Aminotransferase  Total_Protiens  Albumin  \\\n",
       "209                          14             4.1      2.4   \n",
       "241                          23             8.2      4.1   \n",
       "253                          21             7.1      4.2   \n",
       "312                          22             7.9      4.5   \n",
       "\n",
       "     Albumin_and_Globulin_Ratio  \n",
       "209                         1.4  \n",
       "241                         1.0  \n",
       "253                         1.4  \n",
       "312                         1.3  "
      ]
     },
     "execution_count": 11,
     "metadata": {},
     "output_type": "execute_result"
    }
   ],
   "source": [
    "liver_data_features.Albumin_and_Globulin_Ratio.fillna(liver_data_features['Albumin_and_Globulin_Ratio'].median(), inplace=True)\n",
    "\n",
    "albumin_globulin_missing_indices = [209, 241, 253, 312]\n",
    "liver_data_features.loc[albumin_globulin_missing_indices].head()"
   ]
  },
  {
   "cell_type": "markdown",
   "id": "ffe5d2e3",
   "metadata": {},
   "source": [
    "### Plot features histogram"
   ]
  },
  {
   "cell_type": "code",
   "execution_count": 12,
   "id": "1fbd76e5",
   "metadata": {},
   "outputs": [
    {
     "data": {
      "text/plain": [
       "array([[<AxesSubplot: title={'center': 'Age_of_the_patient'}>,\n",
       "        <AxesSubplot: title={'center': 'Total_Bilirubin'}>,\n",
       "        <AxesSubplot: title={'center': 'Direct_Bilirubin'}>],\n",
       "       [<AxesSubplot: title={'center': 'Alkaline_Phosphotase'}>,\n",
       "        <AxesSubplot: title={'center': 'Alamine_Aminotransferase'}>,\n",
       "        <AxesSubplot: title={'center': 'Aspartate_Aminotransferase'}>],\n",
       "       [<AxesSubplot: title={'center': 'Total_Protiens'}>,\n",
       "        <AxesSubplot: title={'center': 'Albumin'}>,\n",
       "        <AxesSubplot: title={'center': 'Albumin_and_Globulin_Ratio'}>]],\n",
       "      dtype=object)"
      ]
     },
     "execution_count": 12,
     "metadata": {},
     "output_type": "execute_result"
    },
    {
     "data": {
      "image/png": "[encoded data removed]",
      "text/plain": [
       "<Figure size 1400x800 with 9 Axes>"
      ]
     },
     "metadata": {},
     "output_type": "display_data"
    }
   ],
   "source": [
    "liver_data_features.hist(figsize=(14,8))"
   ]
  },
  {
   "cell_type": "code",
   "execution_count": 13,
   "id": "e0289cbb",
   "metadata": {},
   "outputs": [
    {
     "data": {
      "text/plain": [
       "array([[<AxesSubplot: title={'center': 'Age_of_the_patient'}>,\n",
       "        <AxesSubplot: title={'center': 'Total_Bilirubin'}>,\n",
       "        <AxesSubplot: title={'center': 'Direct_Bilirubin'}>],\n",
       "       [<AxesSubplot: title={'center': 'Alkaline_Phosphotase'}>,\n",
       "        <AxesSubplot: title={'center': 'Alamine_Aminotransferase'}>,\n",
       "        <AxesSubplot: title={'center': 'Aspartate_Aminotransferase'}>],\n",
       "       [<AxesSubplot: title={'center': 'Total_Protiens'}>,\n",
       "        <AxesSubplot: title={'center': 'Albumin'}>,\n",
       "        <AxesSubplot: title={'center': 'Albumin_and_Globulin_Ratio'}>]],\n",
       "      dtype=object)"
      ]
     },
     "execution_count": 13,
     "metadata": {},
     "output_type": "execute_result"
    },
    {
     "data": {
      "image/png": "[encoded data removed]",
      "text/plain": [
       "<Figure size 1400x800 with 9 Axes>"
      ]
     },
     "metadata": {},
     "output_type": "display_data"
    }
   ],
   "source": [
    "skewed = ['Total_Bilirubin', 'Direct_Bilirubin', 'Alkaline_Phosphotase', 'Alamine_Aminotransferase', 'Aspartate_Aminotransferase', 'Albumin_and_Globulin_Ratio']\n",
    "\n",
    "liver_data_features_log_transformed = pd.DataFrame(data = liver_data_features)\n",
    "liver_data_features_log_transformed[skewed] = liver_data_features[skewed].apply(lambda x: np.log(x))\n",
    "\n",
    "liver_data_features_log_transformed.hist(figsize=(14,8))"
   ]
  },
  {
   "cell_type": "code",
   "execution_count": 14,
   "id": "baf7d92c",
   "metadata": {},
   "outputs": [
    {
     "data": {
      "text/html": [
       "<div>\n",
       "<style scoped>\n",
       "    .dataframe tbody tr th:only-of-type {\n",
       "        vertical-align: middle;\n",
       "    }\n",
       "\n",
       "    .dataframe tbody tr th {\n",
       "        vertical-align: top;\n",
       "    }\n",
       "\n",
       "    .dataframe thead th {\n",
       "        text-align: right;\n",
       "    }\n",
       "</style>\n",
       "<table border=\"1\" class=\"dataframe\">\n",
       "  <thead>\n",
       "    <tr style=\"text-align: right;\">\n",
       "      <th></th>\n",
       "      <th>Age_of_the_patient</th>\n",
       "      <th>Total_Bilirubin</th>\n",
       "      <th>Direct_Bilirubin</th>\n",
       "      <th>Alkaline_Phosphotase</th>\n",
       "      <th>Alamine_Aminotransferase</th>\n",
       "      <th>Aspartate_Aminotransferase</th>\n",
       "      <th>Total_Protiens</th>\n",
       "      <th>Albumin</th>\n",
       "      <th>Albumin_and_Globulin_Ratio</th>\n",
       "    </tr>\n",
       "  </thead>\n",
       "  <tbody>\n",
       "    <tr>\n",
       "      <th>count</th>\n",
       "      <td>582.000000</td>\n",
       "      <td>582.000000</td>\n",
       "      <td>582.000000</td>\n",
       "      <td>582.000000</td>\n",
       "      <td>582.000000</td>\n",
       "      <td>582.000000</td>\n",
       "      <td>582.000000</td>\n",
       "      <td>582.000000</td>\n",
       "      <td>582.000000</td>\n",
       "    </tr>\n",
       "    <tr>\n",
       "      <th>mean</th>\n",
       "      <td>44.711340</td>\n",
       "      <td>0.464830</td>\n",
       "      <td>-0.647534</td>\n",
       "      <td>5.493868</td>\n",
       "      <td>3.753511</td>\n",
       "      <td>3.958603</td>\n",
       "      <td>6.482646</td>\n",
       "      <td>3.141581</td>\n",
       "      <td>-0.111209</td>\n",
       "    </tr>\n",
       "    <tr>\n",
       "      <th>std</th>\n",
       "      <td>16.181921</td>\n",
       "      <td>1.018834</td>\n",
       "      <td>1.325761</td>\n",
       "      <td>0.528470</td>\n",
       "      <td>0.900092</td>\n",
       "      <td>0.997257</td>\n",
       "      <td>1.086306</td>\n",
       "      <td>0.796176</td>\n",
       "      <td>0.344835</td>\n",
       "    </tr>\n",
       "    <tr>\n",
       "      <th>min</th>\n",
       "      <td>4.000000</td>\n",
       "      <td>-0.916291</td>\n",
       "      <td>-2.302585</td>\n",
       "      <td>4.143135</td>\n",
       "      <td>2.302585</td>\n",
       "      <td>2.302585</td>\n",
       "      <td>2.700000</td>\n",
       "      <td>0.900000</td>\n",
       "      <td>-1.203973</td>\n",
       "    </tr>\n",
       "    <tr>\n",
       "      <th>25%</th>\n",
       "      <td>33.000000</td>\n",
       "      <td>-0.223144</td>\n",
       "      <td>-1.609438</td>\n",
       "      <td>5.166210</td>\n",
       "      <td>3.135494</td>\n",
       "      <td>3.218876</td>\n",
       "      <td>5.800000</td>\n",
       "      <td>2.600000</td>\n",
       "      <td>-0.356675</td>\n",
       "    </tr>\n",
       "    <tr>\n",
       "      <th>50%</th>\n",
       "      <td>45.000000</td>\n",
       "      <td>0.000000</td>\n",
       "      <td>-1.203973</td>\n",
       "      <td>5.337538</td>\n",
       "      <td>3.555348</td>\n",
       "      <td>3.737670</td>\n",
       "      <td>6.600000</td>\n",
       "      <td>3.100000</td>\n",
       "      <td>-0.061875</td>\n",
       "    </tr>\n",
       "    <tr>\n",
       "      <th>75%</th>\n",
       "      <td>57.750000</td>\n",
       "      <td>0.955511</td>\n",
       "      <td>0.262364</td>\n",
       "      <td>5.697093</td>\n",
       "      <td>4.106742</td>\n",
       "      <td>4.465908</td>\n",
       "      <td>7.200000</td>\n",
       "      <td>3.800000</td>\n",
       "      <td>0.095310</td>\n",
       "    </tr>\n",
       "    <tr>\n",
       "      <th>max</th>\n",
       "      <td>90.000000</td>\n",
       "      <td>4.317488</td>\n",
       "      <td>2.980619</td>\n",
       "      <td>7.654443</td>\n",
       "      <td>7.600902</td>\n",
       "      <td>8.502891</td>\n",
       "      <td>9.600000</td>\n",
       "      <td>5.500000</td>\n",
       "      <td>1.029619</td>\n",
       "    </tr>\n",
       "  </tbody>\n",
       "</table>\n",
       "</div>"
      ],
      "text/plain": [
       "       Age_of_the_patient  Total_Bilirubin  Direct_Bilirubin  \\\n",
       "count          582.000000       582.000000        582.000000   \n",
       "mean            44.711340         0.464830         -0.647534   \n",
       "std             16.181921         1.018834          1.325761   \n",
       "min              4.000000        -0.916291         -2.302585   \n",
       "25%             33.000000        -0.223144         -1.609438   \n",
       "50%             45.000000         0.000000         -1.203973   \n",
       "75%             57.750000         0.955511          0.262364   \n",
       "max             90.000000         4.317488          2.980619   \n",
       "\n",
       "       Alkaline_Phosphotase  Alamine_Aminotransferase  \\\n",
       "count            582.000000                582.000000   \n",
       "mean               5.493868                  3.753511   \n",
       "std                0.528470                  0.900092   \n",
       "min                4.143135                  2.302585   \n",
       "25%                5.166210                  3.135494   \n",
       "50%                5.337538                  3.555348   \n",
       "75%                5.697093                  4.106742   \n",
       "max                7.654443                  7.600902   \n",
       "\n",
       "       Aspartate_Aminotransferase  Total_Protiens     Albumin  \\\n",
       "count                  582.000000      582.000000  582.000000   \n",
       "mean                     3.958603        6.482646    3.141581   \n",
       "std                      0.997257        1.086306    0.796176   \n",
       "min                      2.302585        2.700000    0.900000   \n",
       "25%                      3.218876        5.800000    2.600000   \n",
       "50%                      3.737670        6.600000    3.100000   \n",
       "75%                      4.465908        7.200000    3.800000   \n",
       "max                      8.502891        9.600000    5.500000   \n",
       "\n",
       "       Albumin_and_Globulin_Ratio  \n",
       "count                  582.000000  \n",
       "mean                    -0.111209  \n",
       "std                      0.344835  \n",
       "min                     -1.203973  \n",
       "25%                     -0.356675  \n",
       "50%                     -0.061875  \n",
       "75%                      0.095310  \n",
       "max                      1.029619  "
      ]
     },
     "execution_count": 14,
     "metadata": {},
     "output_type": "execute_result"
    }
   ],
   "source": [
    "liver_data_features_log_transformed.describe()"
   ]
  },
  {
   "cell_type": "code",
   "execution_count": 15,
   "id": "3644bce9",
   "metadata": {},
   "outputs": [
    {
     "data": {
      "image/png": "[encoded data removed]",
      "text/plain": [
       "<Figure size 1000x1000 with 2 Axes>"
      ]
     },
     "metadata": {},
     "output_type": "display_data"
    }
   ],
   "source": [
    "import matplotlib.pyplot as plt\n",
    "%matplotlib inline\n",
    "\n",
    "# calculate correlation coefficients for the dataset\n",
    "correlations = liver_data_features.corr()\n",
    "\n",
    "# and visualize\n",
    "plt.figure(figsize=(10, 10))\n",
    "g = sns.heatmap(correlations, cbar = True, square = True, annot=True, fmt= '.2f', annot_kws={'size': 10})"
   ]
  },
  {
   "cell_type": "markdown",
   "id": "53ba5ba1",
   "metadata": {},
   "source": [
    "### Scaling"
   ]
  },
  {
   "cell_type": "code",
   "execution_count": 16,
   "id": "2d873dfc",
   "metadata": {},
   "outputs": [
    {
     "data": {
      "text/html": [
       "<div>\n",
       "<style scoped>\n",
       "    .dataframe tbody tr th:only-of-type {\n",
       "        vertical-align: middle;\n",
       "    }\n",
       "\n",
       "    .dataframe tbody tr th {\n",
       "        vertical-align: top;\n",
       "    }\n",
       "\n",
       "    .dataframe thead th {\n",
       "        text-align: right;\n",
       "    }\n",
       "</style>\n",
       "<table border=\"1\" class=\"dataframe\">\n",
       "  <thead>\n",
       "    <tr style=\"text-align: right;\">\n",
       "      <th></th>\n",
       "      <th>Age_of_the_patient</th>\n",
       "      <th>Gender_of_the_patient</th>\n",
       "      <th>Total_Bilirubin</th>\n",
       "      <th>Direct_Bilirubin</th>\n",
       "      <th>Alkaline_Phosphotase</th>\n",
       "      <th>Alamine_Aminotransferase</th>\n",
       "      <th>Aspartate_Aminotransferase</th>\n",
       "      <th>Total_Protiens</th>\n",
       "      <th>Albumin</th>\n",
       "      <th>Albumin_and_Globulin_Ratio</th>\n",
       "    </tr>\n",
       "  </thead>\n",
       "  <tbody>\n",
       "    <tr>\n",
       "      <th>0</th>\n",
       "      <td>0.674419</td>\n",
       "      <td>Male</td>\n",
       "      <td>0.631485</td>\n",
       "      <td>0.758504</td>\n",
       "      <td>0.685362</td>\n",
       "      <td>0.350356</td>\n",
       "      <td>0.371366</td>\n",
       "      <td>0.695652</td>\n",
       "      <td>0.500000</td>\n",
       "      <td>0.404222</td>\n",
       "    </tr>\n",
       "    <tr>\n",
       "      <th>1</th>\n",
       "      <td>0.674419</td>\n",
       "      <td>Male</td>\n",
       "      <td>0.554889</td>\n",
       "      <td>0.702902</td>\n",
       "      <td>0.584190</td>\n",
       "      <td>0.338175</td>\n",
       "      <td>0.309166</td>\n",
       "      <td>0.623188</td>\n",
       "      <td>0.521739</td>\n",
       "      <td>0.486857</td>\n",
       "    </tr>\n",
       "    <tr>\n",
       "      <th>2</th>\n",
       "      <td>0.627907</td>\n",
       "      <td>Male</td>\n",
       "      <td>0.175072</td>\n",
       "      <td>0.262397</td>\n",
       "      <td>0.302130</td>\n",
       "      <td>0.063505</td>\n",
       "      <td>0.111792</td>\n",
       "      <td>0.594203</td>\n",
       "      <td>0.543478</td>\n",
       "      <td>0.539030</td>\n",
       "    </tr>\n",
       "    <tr>\n",
       "      <th>3</th>\n",
       "      <td>0.790698</td>\n",
       "      <td>Male</td>\n",
       "      <td>0.435110</td>\n",
       "      <td>0.567029</td>\n",
       "      <td>0.321779</td>\n",
       "      <td>0.187466</td>\n",
       "      <td>0.286268</td>\n",
       "      <td>0.666667</td>\n",
       "      <td>0.326087</td>\n",
       "      <td>0.128798</td>\n",
       "    </tr>\n",
       "    <tr>\n",
       "      <th>4</th>\n",
       "      <td>0.488372</td>\n",
       "      <td>Male</td>\n",
       "      <td>0.287379</td>\n",
       "      <td>0.368320</td>\n",
       "      <td>0.340159</td>\n",
       "      <td>0.121143</td>\n",
       "      <td>0.054267</td>\n",
       "      <td>0.710145</td>\n",
       "      <td>0.760870</td>\n",
       "      <td>0.656493</td>\n",
       "    </tr>\n",
       "  </tbody>\n",
       "</table>\n",
       "</div>"
      ],
      "text/plain": [
       "   Age_of_the_patient Gender_of_the_patient  Total_Bilirubin  \\\n",
       "0            0.674419                  Male         0.631485   \n",
       "1            0.674419                  Male         0.554889   \n",
       "2            0.627907                  Male         0.175072   \n",
       "3            0.790698                  Male         0.435110   \n",
       "4            0.488372                  Male         0.287379   \n",
       "\n",
       "   Direct_Bilirubin  Alkaline_Phosphotase  Alamine_Aminotransferase  \\\n",
       "0          0.758504              0.685362                  0.350356   \n",
       "1          0.702902              0.584190                  0.338175   \n",
       "2          0.262397              0.302130                  0.063505   \n",
       "3          0.567029              0.321779                  0.187466   \n",
       "4          0.368320              0.340159                  0.121143   \n",
       "\n",
       "   Aspartate_Aminotransferase  Total_Protiens   Albumin  \\\n",
       "0                    0.371366        0.695652  0.500000   \n",
       "1                    0.309166        0.623188  0.521739   \n",
       "2                    0.111792        0.594203  0.543478   \n",
       "3                    0.286268        0.666667  0.326087   \n",
       "4                    0.054267        0.710145  0.760870   \n",
       "\n",
       "   Albumin_and_Globulin_Ratio  \n",
       "0                    0.404222  \n",
       "1                    0.486857  \n",
       "2                    0.539030  \n",
       "3                    0.128798  \n",
       "4                    0.656493  "
      ]
     },
     "metadata": {},
     "output_type": "display_data"
    }
   ],
   "source": [
    "\n",
    "from sklearn.preprocessing import MinMaxScaler\n",
    "\n",
    "scaler = MinMaxScaler()\n",
    "numerical = ['Age_of_the_patient', 'Total_Bilirubin', 'Direct_Bilirubin', 'Alkaline_Phosphotase', 'Alamine_Aminotransferase',\n",
    "             'Aspartate_Aminotransferase', 'Total_Protiens', 'Albumin', 'Albumin_and_Globulin_Ratio']\n",
    "\n",
    "liver_data_features_log_minmax_transform = pd.DataFrame(data = liver_data_features_log_transformed)\n",
    "liver_data_features_log_minmax_transform[numerical] = scaler.fit_transform(liver_data_features_log_transformed[numerical])\n",
    "\n",
    "display(liver_data_features_log_minmax_transform.head())"
   ]
  },
  {
   "cell_type": "code",
   "execution_count": 17,
   "id": "d06dbbf0",
   "metadata": {},
   "outputs": [
    {
     "data": {
      "text/html": [
       "<div>\n",
       "<style scoped>\n",
       "    .dataframe tbody tr th:only-of-type {\n",
       "        vertical-align: middle;\n",
       "    }\n",
       "\n",
       "    .dataframe tbody tr th {\n",
       "        vertical-align: top;\n",
       "    }\n",
       "\n",
       "    .dataframe thead th {\n",
       "        text-align: right;\n",
       "    }\n",
       "</style>\n",
       "<table border=\"1\" class=\"dataframe\">\n",
       "  <thead>\n",
       "    <tr style=\"text-align: right;\">\n",
       "      <th></th>\n",
       "      <th>Age_of_the_patient</th>\n",
       "      <th>Total_Bilirubin</th>\n",
       "      <th>Direct_Bilirubin</th>\n",
       "      <th>Alkaline_Phosphotase</th>\n",
       "      <th>Alamine_Aminotransferase</th>\n",
       "      <th>Aspartate_Aminotransferase</th>\n",
       "      <th>Total_Protiens</th>\n",
       "      <th>Albumin</th>\n",
       "      <th>Albumin_and_Globulin_Ratio</th>\n",
       "      <th>Gender_of_the_patient_Female</th>\n",
       "      <th>Gender_of_the_patient_Male</th>\n",
       "    </tr>\n",
       "  </thead>\n",
       "  <tbody>\n",
       "    <tr>\n",
       "      <th>0</th>\n",
       "      <td>0.674419</td>\n",
       "      <td>0.631485</td>\n",
       "      <td>0.758504</td>\n",
       "      <td>0.685362</td>\n",
       "      <td>0.350356</td>\n",
       "      <td>0.371366</td>\n",
       "      <td>0.695652</td>\n",
       "      <td>0.500000</td>\n",
       "      <td>0.404222</td>\n",
       "      <td>0</td>\n",
       "      <td>1</td>\n",
       "    </tr>\n",
       "    <tr>\n",
       "      <th>1</th>\n",
       "      <td>0.674419</td>\n",
       "      <td>0.554889</td>\n",
       "      <td>0.702902</td>\n",
       "      <td>0.584190</td>\n",
       "      <td>0.338175</td>\n",
       "      <td>0.309166</td>\n",
       "      <td>0.623188</td>\n",
       "      <td>0.521739</td>\n",
       "      <td>0.486857</td>\n",
       "      <td>0</td>\n",
       "      <td>1</td>\n",
       "    </tr>\n",
       "    <tr>\n",
       "      <th>2</th>\n",
       "      <td>0.627907</td>\n",
       "      <td>0.175072</td>\n",
       "      <td>0.262397</td>\n",
       "      <td>0.302130</td>\n",
       "      <td>0.063505</td>\n",
       "      <td>0.111792</td>\n",
       "      <td>0.594203</td>\n",
       "      <td>0.543478</td>\n",
       "      <td>0.539030</td>\n",
       "      <td>0</td>\n",
       "      <td>1</td>\n",
       "    </tr>\n",
       "    <tr>\n",
       "      <th>3</th>\n",
       "      <td>0.790698</td>\n",
       "      <td>0.435110</td>\n",
       "      <td>0.567029</td>\n",
       "      <td>0.321779</td>\n",
       "      <td>0.187466</td>\n",
       "      <td>0.286268</td>\n",
       "      <td>0.666667</td>\n",
       "      <td>0.326087</td>\n",
       "      <td>0.128798</td>\n",
       "      <td>0</td>\n",
       "      <td>1</td>\n",
       "    </tr>\n",
       "    <tr>\n",
       "      <th>4</th>\n",
       "      <td>0.488372</td>\n",
       "      <td>0.287379</td>\n",
       "      <td>0.368320</td>\n",
       "      <td>0.340159</td>\n",
       "      <td>0.121143</td>\n",
       "      <td>0.054267</td>\n",
       "      <td>0.710145</td>\n",
       "      <td>0.760870</td>\n",
       "      <td>0.656493</td>\n",
       "      <td>0</td>\n",
       "      <td>1</td>\n",
       "    </tr>\n",
       "  </tbody>\n",
       "</table>\n",
       "</div>"
      ],
      "text/plain": [
       "   Age_of_the_patient  Total_Bilirubin  Direct_Bilirubin  \\\n",
       "0            0.674419         0.631485          0.758504   \n",
       "1            0.674419         0.554889          0.702902   \n",
       "2            0.627907         0.175072          0.262397   \n",
       "3            0.790698         0.435110          0.567029   \n",
       "4            0.488372         0.287379          0.368320   \n",
       "\n",
       "   Alkaline_Phosphotase  Alamine_Aminotransferase  Aspartate_Aminotransferase  \\\n",
       "0              0.685362                  0.350356                    0.371366   \n",
       "1              0.584190                  0.338175                    0.309166   \n",
       "2              0.302130                  0.063505                    0.111792   \n",
       "3              0.321779                  0.187466                    0.286268   \n",
       "4              0.340159                  0.121143                    0.054267   \n",
       "\n",
       "   Total_Protiens   Albumin  Albumin_and_Globulin_Ratio  \\\n",
       "0        0.695652  0.500000                    0.404222   \n",
       "1        0.623188  0.521739                    0.486857   \n",
       "2        0.594203  0.543478                    0.539030   \n",
       "3        0.666667  0.326087                    0.128798   \n",
       "4        0.710145  0.760870                    0.656493   \n",
       "\n",
       "   Gender_of_the_patient_Female  Gender_of_the_patient_Male  \n",
       "0                             0                           1  \n",
       "1                             0                           1  \n",
       "2                             0                           1  \n",
       "3                             0                           1  \n",
       "4                             0                           1  "
      ]
     },
     "execution_count": 17,
     "metadata": {},
     "output_type": "execute_result"
    }
   ],
   "source": [
    "liver_data_features_final = pd.get_dummies(liver_data_features_log_minmax_transform, columns=['Gender_of_the_patient'])\n",
    "liver_data_features_final.head()"
   ]
  },
  {
   "cell_type": "markdown",
   "id": "740a8ec8",
   "metadata": {},
   "source": [
    "### Import train_test_split"
   ]
  },
  {
   "cell_type": "code",
   "execution_count": 18,
   "id": "745ccf81",
   "metadata": {},
   "outputs": [
    {
     "name": "stdout",
     "output_type": "stream",
     "text": [
      "Training set has 465 samples.\n",
      "Testing set has 117 samples.\n"
     ]
    }
   ],
   "source": [
    "\n",
    "from sklearn.model_selection import train_test_split\n",
    "\n",
    "# Split the 'features' and 'disease prediction' data into training and testing sets\n",
    "X_train, X_test, y_train, y_test = train_test_split(liver_data_features_final, \n",
    "                                                    liver_data_labels, \n",
    "                                                    test_size = 0.2, \n",
    "                                                    random_state = 24,\n",
    "                                                    shuffle = True)\n",
    "\n",
    "# Show the results of the split\n",
    "print(\"Training set has {} samples.\".format(X_train.shape[0]))\n",
    "print(\"Testing set has {} samples.\".format(X_test.shape[0]))"
   ]
  },
  {
   "cell_type": "markdown",
   "id": "6aaf4214",
   "metadata": {},
   "source": [
    "### Logistic Regression"
   ]
  },
  {
   "cell_type": "code",
   "execution_count": 19,
   "id": "b4167a1f",
   "metadata": {},
   "outputs": [],
   "source": [
    "from sklearn.linear_model import LogisticRegression\n",
    "from sklearn.metrics import confusion_matrix, accuracy_score, precision_score, recall_score, f1_score"
   ]
  },
  {
   "cell_type": "code",
   "execution_count": 20,
   "id": "84976490",
   "metadata": {},
   "outputs": [],
   "source": [
    "# Creating object for Logistic Regression\n",
    "log_reg = LogisticRegression(max_iter=1000)\n",
    "\n",
    "# Fitting the model\n",
    "log_reg_p = log_reg.fit(X_train, y_train)\n",
    "\n",
    "# Making predictions\n",
    "y_pred_logreg = log_reg_p.predict(X_test)"
   ]
  },
  {
   "cell_type": "code",
   "execution_count": 21,
   "id": "437c76a0",
   "metadata": {},
   "outputs": [
    {
     "name": "stdout",
     "output_type": "stream",
     "text": [
      "#### Classification Report ####\n",
      "              precision    recall  f1-score   support\n",
      "\n",
      "           1       0.68      0.90      0.77        78\n",
      "           2       0.43      0.15      0.23        39\n",
      "\n",
      "    accuracy                           0.65       117\n",
      "   macro avg       0.55      0.53      0.50       117\n",
      "weighted avg       0.60      0.65      0.59       117\n",
      "\n",
      "#### Accuracy Score ####\n",
      "accuracy score :  0.6495726495726496\n",
      "\n",
      "#### Confusion Matrix ####\n",
      "[[70  8]\n",
      " [33  6]]\n"
     ]
    }
   ],
   "source": [
    "from sklearn.metrics import classification_report\n",
    "\n",
    "# Using function for evaluating the model output\n",
    "\n",
    "print(\"#### Classification Report ####\")\n",
    "print(classification_report(y_test,y_pred_logreg))\n",
    "\n",
    "print(\"#### Accuracy Score ####\")\n",
    "print('accuracy score : ',accuracy_score(y_test,y_pred_logreg))\n",
    "\n",
    "print(\"\\n#### Confusion Matrix ####\")\n",
    "print(confusion_matrix(y_test,y_pred_logreg))"
   ]
  },
  {
   "cell_type": "markdown",
   "id": "7d0ed852",
   "metadata": {},
   "source": [
    "### DecisionTreeClassifier"
   ]
  },
  {
   "cell_type": "code",
   "execution_count": 22,
   "id": "3072cae2",
   "metadata": {},
   "outputs": [],
   "source": [
    "from sklearn.model_selection import GridSearchCV,RandomizedSearchCV\n",
    "from sklearn.tree import DecisionTreeClassifier\n",
    "\n",
    "# Creating object for Decision Tree Classifier\n",
    "dtc = DecisionTreeClassifier(criterion='entropy',max_depth=7)\n",
    "\n",
    "# Fitting the model\n",
    "dtc_p = dtc.fit(X_train, y_train)\n",
    "\n",
    "# Making predictions\n",
    "y_pred_dtc = dtc_p.predict(X_test)"
   ]
  },
  {
   "cell_type": "code",
   "execution_count": 23,
   "id": "d776621f",
   "metadata": {
    "scrolled": false
   },
   "outputs": [
    {
     "name": "stdout",
     "output_type": "stream",
     "text": [
      "#### Classification Report ####\n",
      "              precision    recall  f1-score   support\n",
      "\n",
      "           1       0.70      0.85      0.77        78\n",
      "           2       0.48      0.28      0.35        39\n",
      "\n",
      "    accuracy                           0.66       117\n",
      "   macro avg       0.59      0.56      0.56       117\n",
      "weighted avg       0.63      0.66      0.63       117\n",
      "\n",
      "#### Accuracy Score ####\n",
      "accuracy score :  0.6581196581196581\n",
      "\n",
      "#### Confusion Matrix ####\n",
      "[[66 12]\n",
      " [28 11]]\n"
     ]
    }
   ],
   "source": [
    "# Using function for evaluating the model output\n",
    "\n",
    "print(\"#### Classification Report ####\")\n",
    "print(classification_report(y_test,y_pred_dtc))\n",
    "\n",
    "print(\"#### Accuracy Score ####\")\n",
    "print('accuracy score : ',accuracy_score(y_test,y_pred_dtc))\n",
    "\n",
    "print(\"\\n#### Confusion Matrix ####\")\n",
    "print(confusion_matrix(y_test,y_pred_dtc))"
   ]
  },
  {
   "cell_type": "markdown",
   "id": "7e27db98",
   "metadata": {},
   "source": [
    "#### Hyper Parameter Tuning for DecisionTreeClassifier"
   ]
  },
  {
   "cell_type": "code",
   "execution_count": 24,
   "id": "54827c4a",
   "metadata": {},
   "outputs": [],
   "source": [
    "from scipy.stats import randint\n",
    "\n",
    "# Setup the parameters and distributions to sample from: param_dist\n",
    "param_dist = {\"max_depth\": [3,4,5,6], \n",
    "              \"max_features\": randint(1, 9), \n",
    "              \"min_samples_leaf\": randint(1, 9)} "
   ]
  },
  {
   "cell_type": "code",
   "execution_count": 25,
   "id": "1c24830e",
   "metadata": {},
   "outputs": [
    {
     "name": "stdout",
     "output_type": "stream",
     "text": [
      "Tuned Decision Tree Parameters: {'max_depth': 4, 'max_features': 7, 'min_samples_leaf': 7}\n",
      "Best score is 0.724731182795699\n"
     ]
    }
   ],
   "source": [
    "# Instantiate a Decision Tree regressor: tree\n",
    "tree = DecisionTreeClassifier()\n",
    "  \n",
    "# Instantiate the RandomizedSearchCV object: tree_cv\n",
    "tree_cv = RandomizedSearchCV(tree, param_dist, cv = 5) \n",
    "\n",
    "# Fit it to the data\n",
    "tree_cv.fit(X_train, y_train) \n",
    "  \n",
    "# Print the tuned parameters and score \n",
    "print(\"Tuned Decision Tree Parameters: {}\".format(tree_cv.best_params_)) \n",
    "print(\"Best score is {}\".format(tree_cv.best_score_)) "
   ]
  },
  {
   "cell_type": "markdown",
   "id": "583770bc",
   "metadata": {},
   "source": [
    "### K Nearest Neighbors"
   ]
  },
  {
   "cell_type": "code",
   "execution_count": 26,
   "id": "1027e1e7",
   "metadata": {},
   "outputs": [],
   "source": [
    "from sklearn.neighbors import KNeighborsClassifier\n",
    "\n",
    "# Creating object for KNeighborsClassifier\n",
    "k_nearest = KNeighborsClassifier(n_neighbors = 7)\n",
    "\n",
    "# Fitting the model\n",
    "k_nearest_p = k_nearest.fit(X_train, y_train)\n",
    "\n",
    "# Making predictions\n",
    "y_pred_k_nearest = k_nearest_p.predict(X_test)"
   ]
  },
  {
   "cell_type": "code",
   "execution_count": 27,
   "id": "16558463",
   "metadata": {
    "scrolled": false
   },
   "outputs": [
    {
     "name": "stdout",
     "output_type": "stream",
     "text": [
      "#### Classification Report ####\n",
      "              precision    recall  f1-score   support\n",
      "\n",
      "           1       0.75      0.88      0.81        78\n",
      "           2       0.64      0.41      0.50        39\n",
      "\n",
      "    accuracy                           0.73       117\n",
      "   macro avg       0.70      0.65      0.66       117\n",
      "weighted avg       0.71      0.73      0.71       117\n",
      "\n",
      "#### Accuracy Score ####\n",
      "accuracy score :  0.7264957264957265\n",
      "\n",
      "#### Confusion Matrix ####\n",
      "[[69  9]\n",
      " [23 16]]\n"
     ]
    }
   ],
   "source": [
    "# Using function for evaluating the model output\n",
    "\n",
    "print(\"#### Classification Report ####\")\n",
    "print(classification_report(y_test,y_pred_k_nearest))\n",
    "\n",
    "print(\"#### Accuracy Score ####\")\n",
    "print('accuracy score : ',accuracy_score(y_test,y_pred_k_nearest))\n",
    "\n",
    "print(\"\\n#### Confusion Matrix ####\")\n",
    "print(confusion_matrix(y_test,y_pred_k_nearest))"
   ]
  },
  {
   "cell_type": "markdown",
   "id": "8fbd5bb3",
   "metadata": {},
   "source": [
    "#### KNN Hyper parameter"
   ]
  },
  {
   "cell_type": "code",
   "execution_count": 28,
   "id": "a08386a3",
   "metadata": {},
   "outputs": [],
   "source": [
    "#List Hyperparameters that we want to tune.\n",
    "n_neighbors=list(range(1,30))\n",
    "weights=['uniform','distance']\n",
    "leaf_size=list(range(1,50))\n",
    "algoritham=['auto', 'ball_tree', 'kd_tree', 'brute']\n",
    "metric=['minkowski','Euclidean']"
   ]
  },
  {
   "cell_type": "code",
   "execution_count": 29,
   "id": "e689becd",
   "metadata": {
    "scrolled": true
   },
   "outputs": [
    {
     "data": {
      "text/plain": [
       "RandomizedSearchCV(cv=5, estimator=KNeighborsClassifier(n_neighbors=7),\n",
       "                   n_jobs=1,\n",
       "                   param_distributions={'leaf_size': [1, 2, 3, 4, 5, 6, 7, 8, 9,\n",
       "                                                      10, 11, 12, 13, 14, 15,\n",
       "                                                      16, 17, 18, 19, 20, 21,\n",
       "                                                      22, 23, 24, 25, 26, 27,\n",
       "                                                      28, 29, 30, ...],\n",
       "                                        'metric': ['minkowski', 'Euclidean'],\n",
       "                                        'n_neighbors': [1, 2, 3, 4, 5, 6, 7, 8,\n",
       "                                                        9, 10, 11, 12, 13, 14,\n",
       "                                                        15, 16, 17, 18, 19, 20,\n",
       "                                                        21, 22, 23, 24, 25, 26,\n",
       "                                                        27, 28, 29],\n",
       "                                        'weights': ['uniform', 'distance']},\n",
       "                   random_state=42, scoring='r2')"
      ]
     },
     "execution_count": 29,
     "metadata": {},
     "output_type": "execute_result"
    }
   ],
   "source": [
    "#Convert to dictionary\n",
    "kNN_grid={'n_neighbors':n_neighbors,'weights':weights,'leaf_size':leaf_size,'metric':metric}\n",
    "\n",
    "#Use GridSearch\n",
    "random_cv = RandomizedSearchCV(estimator=k_nearest,param_distributions=kNN_grid,cv=5,random_state=42,n_jobs=1,scoring='r2')\n",
    "\n",
    "#Fit the model\n",
    "random_cv.fit(X_train,y_train)"
   ]
  },
  {
   "cell_type": "code",
   "execution_count": 30,
   "id": "44977921",
   "metadata": {
    "scrolled": true
   },
   "outputs": [
    {
     "data": {
      "text/plain": [
       "KNeighborsClassifier(leaf_size=46, n_neighbors=4)"
      ]
     },
     "execution_count": 30,
     "metadata": {},
     "output_type": "execute_result"
    }
   ],
   "source": [
    "#Print The value of best Hyperparameters\n",
    "random_cv.best_estimator_"
   ]
  },
  {
   "cell_type": "code",
   "execution_count": 31,
   "id": "23f66f5e",
   "metadata": {},
   "outputs": [
    {
     "data": {
      "text/plain": [
       "-0.4226041737016278"
      ]
     },
     "execution_count": 31,
     "metadata": {},
     "output_type": "execute_result"
    }
   ],
   "source": [
    "random_cv.best_score_"
   ]
  },
  {
   "cell_type": "code",
   "execution_count": 32,
   "id": "893fec45",
   "metadata": {},
   "outputs": [
    {
     "data": {
      "text/plain": [
       "{'weights': 'uniform',\n",
       " 'n_neighbors': 4,\n",
       " 'metric': 'minkowski',\n",
       " 'leaf_size': 46}"
      ]
     },
     "execution_count": 32,
     "metadata": {},
     "output_type": "execute_result"
    }
   ],
   "source": [
    "random_cv.best_params_"
   ]
  },
  {
   "cell_type": "code",
   "execution_count": 33,
   "id": "f4f9b127",
   "metadata": {
    "scrolled": true
   },
   "outputs": [
    {
     "data": {
      "text/plain": [
       "RandomizedSearchCV(cv=5, estimator=KNeighborsClassifier(n_neighbors=7),\n",
       "                   n_jobs=1,\n",
       "                   param_distributions={'leaf_size': [1, 2, 3, 4, 5, 6, 7, 8, 9,\n",
       "                                                      10, 11, 12, 13, 14, 15,\n",
       "                                                      16, 17, 18, 19, 20, 21,\n",
       "                                                      22, 23, 24, 25, 26, 27,\n",
       "                                                      28, 29, 30, ...],\n",
       "                                        'metric': ['minkowski', 'Euclidean'],\n",
       "                                        'n_neighbors': [1, 2, 3, 4, 5, 6, 7, 8,\n",
       "                                                        9, 10, 11, 12, 13, 14,\n",
       "                                                        15, 16, 17, 18, 19, 20,\n",
       "                                                        21, 22, 23, 24, 25, 26,\n",
       "                                                        27, 28, 29],\n",
       "                                        'weights': ['uniform', 'distance']},\n",
       "                   random_state=42, scoring='r2')"
      ]
     },
     "execution_count": 33,
     "metadata": {},
     "output_type": "execute_result"
    }
   ],
   "source": [
    "random_cv.fit(X_test, y_test)"
   ]
  },
  {
   "cell_type": "code",
   "execution_count": 34,
   "id": "8fe4d24f",
   "metadata": {},
   "outputs": [
    {
     "data": {
      "text/plain": [
       "-0.5005952380952382"
      ]
     },
     "execution_count": 34,
     "metadata": {},
     "output_type": "execute_result"
    }
   ],
   "source": [
    "random_cv.best_score_"
   ]
  },
  {
   "cell_type": "markdown",
   "id": "93d27a09",
   "metadata": {},
   "source": [
    "### Support Vector Machine"
   ]
  },
  {
   "cell_type": "code",
   "execution_count": 35,
   "id": "a7860ebe",
   "metadata": {},
   "outputs": [],
   "source": [
    "from sklearn.svm import SVC\n",
    "\n",
    "# Creating object for Support Vector Classifier\n",
    "svc = SVC()\n",
    "\n",
    "# Fitting the model\n",
    "svc.fit(X_train, y_train)\n",
    "  \n",
    "# print prediction results\n",
    "y_pred_svc = svc.predict(X_test)"
   ]
  },
  {
   "cell_type": "code",
   "execution_count": 36,
   "id": "1ab310c1",
   "metadata": {
    "scrolled": true
   },
   "outputs": [
    {
     "name": "stdout",
     "output_type": "stream",
     "text": [
      "#### Classification Report ####\n",
      "              precision    recall  f1-score   support\n",
      "\n",
      "           1       0.67      1.00      0.80        78\n",
      "           2       0.00      0.00      0.00        39\n",
      "\n",
      "    accuracy                           0.67       117\n",
      "   macro avg       0.33      0.50      0.40       117\n",
      "weighted avg       0.44      0.67      0.53       117\n",
      "\n",
      "#### Accuracy Score ####\n",
      "accuracy score :  0.6666666666666666\n",
      "\n",
      "#### Confusion Matrix ####\n",
      "[[78  0]\n",
      " [39  0]]\n"
     ]
    }
   ],
   "source": [
    "# Using function for evaluating the model output\n",
    "\n",
    "print(\"#### Classification Report ####\")\n",
    "print(classification_report(y_test,y_pred_svc))\n",
    "\n",
    "print(\"#### Accuracy Score ####\")\n",
    "print('accuracy score : ',accuracy_score(y_test,y_pred_svc))\n",
    "\n",
    "print(\"\\n#### Confusion Matrix ####\")\n",
    "print(confusion_matrix(y_test,y_pred_svc))"
   ]
  },
  {
   "cell_type": "markdown",
   "id": "29de2167",
   "metadata": {},
   "source": [
    "#### Hyper Parameter Tuning for Support Vector Machine"
   ]
  },
  {
   "cell_type": "code",
   "execution_count": 37,
   "id": "47c5e5fd",
   "metadata": {},
   "outputs": [
    {
     "name": "stdout",
     "output_type": "stream",
     "text": [
      "Fitting 5 folds for each of 25 candidates, totalling 125 fits\n",
      "[CV 1/5] END ........C=0.1, gamma=1, kernel=rbf;, score=0.731 total time=   0.0s\n",
      "[CV 2/5] END ........C=0.1, gamma=1, kernel=rbf;, score=0.731 total time=   0.0s\n",
      "[CV 3/5] END ........C=0.1, gamma=1, kernel=rbf;, score=0.720 total time=   0.0s\n",
      "[CV 4/5] END ........C=0.1, gamma=1, kernel=rbf;, score=0.720 total time=   0.0s\n",
      "[CV 5/5] END ........C=0.1, gamma=1, kernel=rbf;, score=0.720 total time=   0.0s\n",
      "[CV 1/5] END ......C=0.1, gamma=0.1, kernel=rbf;, score=0.731 total time=   0.0s\n",
      "[CV 2/5] END ......C=0.1, gamma=0.1, kernel=rbf;, score=0.731 total time=   0.0s\n",
      "[CV 3/5] END ......C=0.1, gamma=0.1, kernel=rbf;, score=0.720 total time=   0.0s\n",
      "[CV 4/5] END ......C=0.1, gamma=0.1, kernel=rbf;, score=0.720 total time=   0.0s\n",
      "[CV 5/5] END ......C=0.1, gamma=0.1, kernel=rbf;, score=0.720 total time=   0.0s\n",
      "[CV 1/5] END .....C=0.1, gamma=0.01, kernel=rbf;, score=0.731 total time=   0.0s\n",
      "[CV 2/5] END .....C=0.1, gamma=0.01, kernel=rbf;, score=0.731 total time=   0.0s\n",
      "[CV 3/5] END .....C=0.1, gamma=0.01, kernel=rbf;, score=0.720 total time=   0.0s\n",
      "[CV 4/5] END .....C=0.1, gamma=0.01, kernel=rbf;, score=0.720 total time=   0.0s\n",
      "[CV 5/5] END .....C=0.1, gamma=0.01, kernel=rbf;, score=0.720 total time=   0.0s\n",
      "[CV 1/5] END ....C=0.1, gamma=0.001, kernel=rbf;, score=0.731 total time=   0.0s\n",
      "[CV 2/5] END ....C=0.1, gamma=0.001, kernel=rbf;, score=0.731 total time=   0.0s\n",
      "[CV 3/5] END ....C=0.1, gamma=0.001, kernel=rbf;, score=0.720 total time=   0.0s\n",
      "[CV 4/5] END ....C=0.1, gamma=0.001, kernel=rbf;, score=0.720 total time=   0.0s\n",
      "[CV 5/5] END ....C=0.1, gamma=0.001, kernel=rbf;, score=0.720 total time=   0.0s\n",
      "[CV 1/5] END ...C=0.1, gamma=0.0001, kernel=rbf;, score=0.731 total time=   0.0s\n",
      "[CV 2/5] END ...C=0.1, gamma=0.0001, kernel=rbf;, score=0.731 total time=   0.0s\n",
      "[CV 3/5] END ...C=0.1, gamma=0.0001, kernel=rbf;, score=0.720 total time=   0.0s\n",
      "[CV 4/5] END ...C=0.1, gamma=0.0001, kernel=rbf;, score=0.720 total time=   0.0s\n",
      "[CV 5/5] END ...C=0.1, gamma=0.0001, kernel=rbf;, score=0.720 total time=   0.0s\n",
      "[CV 1/5] END ..........C=1, gamma=1, kernel=rbf;, score=0.731 total time=   0.0s\n",
      "[CV 2/5] END ..........C=1, gamma=1, kernel=rbf;, score=0.731 total time=   0.0s\n",
      "[CV 3/5] END ..........C=1, gamma=1, kernel=rbf;, score=0.699 total time=   0.0s\n",
      "[CV 4/5] END ..........C=1, gamma=1, kernel=rbf;, score=0.720 total time=   0.0s\n",
      "[CV 5/5] END ..........C=1, gamma=1, kernel=rbf;, score=0.720 total time=   0.0s\n",
      "[CV 1/5] END ........C=1, gamma=0.1, kernel=rbf;, score=0.731 total time=   0.0s\n",
      "[CV 2/5] END ........C=1, gamma=0.1, kernel=rbf;, score=0.731 total time=   0.0s\n",
      "[CV 3/5] END ........C=1, gamma=0.1, kernel=rbf;, score=0.720 total time=   0.0s\n",
      "[CV 4/5] END ........C=1, gamma=0.1, kernel=rbf;, score=0.720 total time=   0.0s\n",
      "[CV 5/5] END ........C=1, gamma=0.1, kernel=rbf;, score=0.720 total time=   0.0s\n",
      "[CV 1/5] END .......C=1, gamma=0.01, kernel=rbf;, score=0.731 total time=   0.0s\n",
      "[CV 2/5] END .......C=1, gamma=0.01, kernel=rbf;, score=0.731 total time=   0.0s\n",
      "[CV 3/5] END .......C=1, gamma=0.01, kernel=rbf;, score=0.720 total time=   0.0s\n",
      "[CV 4/5] END .......C=1, gamma=0.01, kernel=rbf;, score=0.720 total time=   0.0s\n",
      "[CV 5/5] END .......C=1, gamma=0.01, kernel=rbf;, score=0.720 total time=   0.0s\n",
      "[CV 1/5] END ......C=1, gamma=0.001, kernel=rbf;, score=0.731 total time=   0.0s\n",
      "[CV 2/5] END ......C=1, gamma=0.001, kernel=rbf;, score=0.731 total time=   0.0s\n",
      "[CV 3/5] END ......C=1, gamma=0.001, kernel=rbf;, score=0.720 total time=   0.0s\n",
      "[CV 4/5] END ......C=1, gamma=0.001, kernel=rbf;, score=0.720 total time=   0.0s\n",
      "[CV 5/5] END ......C=1, gamma=0.001, kernel=rbf;, score=0.720 total time=   0.0s\n",
      "[CV 1/5] END .....C=1, gamma=0.0001, kernel=rbf;, score=0.731 total time=   0.0s\n",
      "[CV 2/5] END .....C=1, gamma=0.0001, kernel=rbf;, score=0.731 total time=   0.0s\n",
      "[CV 3/5] END .....C=1, gamma=0.0001, kernel=rbf;, score=0.720 total time=   0.0s\n",
      "[CV 4/5] END .....C=1, gamma=0.0001, kernel=rbf;, score=0.720 total time=   0.0s\n",
      "[CV 5/5] END .....C=1, gamma=0.0001, kernel=rbf;, score=0.720 total time=   0.0s\n",
      "[CV 1/5] END .........C=10, gamma=1, kernel=rbf;, score=0.731 total time=   0.0s\n",
      "[CV 2/5] END .........C=10, gamma=1, kernel=rbf;, score=0.710 total time=   0.0s\n",
      "[CV 3/5] END .........C=10, gamma=1, kernel=rbf;, score=0.667 total time=   0.0s\n",
      "[CV 4/5] END .........C=10, gamma=1, kernel=rbf;, score=0.720 total time=   0.0s\n",
      "[CV 5/5] END .........C=10, gamma=1, kernel=rbf;, score=0.731 total time=   0.0s\n",
      "[CV 1/5] END .......C=10, gamma=0.1, kernel=rbf;, score=0.731 total time=   0.0s\n",
      "[CV 2/5] END .......C=10, gamma=0.1, kernel=rbf;, score=0.731 total time=   0.0s\n",
      "[CV 3/5] END .......C=10, gamma=0.1, kernel=rbf;, score=0.720 total time=   0.0s\n",
      "[CV 4/5] END .......C=10, gamma=0.1, kernel=rbf;, score=0.720 total time=   0.0s\n",
      "[CV 5/5] END .......C=10, gamma=0.1, kernel=rbf;, score=0.720 total time=   0.0s\n",
      "[CV 1/5] END ......C=10, gamma=0.01, kernel=rbf;, score=0.731 total time=   0.0s\n",
      "[CV 2/5] END ......C=10, gamma=0.01, kernel=rbf;, score=0.731 total time=   0.0s\n",
      "[CV 3/5] END ......C=10, gamma=0.01, kernel=rbf;, score=0.720 total time=   0.0s\n",
      "[CV 4/5] END ......C=10, gamma=0.01, kernel=rbf;, score=0.720 total time=   0.0s\n",
      "[CV 5/5] END ......C=10, gamma=0.01, kernel=rbf;, score=0.720 total time=   0.0s\n",
      "[CV 1/5] END .....C=10, gamma=0.001, kernel=rbf;, score=0.731 total time=   0.0s\n",
      "[CV 2/5] END .....C=10, gamma=0.001, kernel=rbf;, score=0.731 total time=   0.0s\n",
      "[CV 3/5] END .....C=10, gamma=0.001, kernel=rbf;, score=0.720 total time=   0.0s\n",
      "[CV 4/5] END .....C=10, gamma=0.001, kernel=rbf;, score=0.720 total time=   0.0s\n",
      "[CV 5/5] END .....C=10, gamma=0.001, kernel=rbf;, score=0.720 total time=   0.0s\n",
      "[CV 1/5] END ....C=10, gamma=0.0001, kernel=rbf;, score=0.731 total time=   0.0s\n",
      "[CV 2/5] END ....C=10, gamma=0.0001, kernel=rbf;, score=0.731 total time=   0.0s\n",
      "[CV 3/5] END ....C=10, gamma=0.0001, kernel=rbf;, score=0.720 total time=   0.0s\n",
      "[CV 4/5] END ....C=10, gamma=0.0001, kernel=rbf;, score=0.720 total time=   0.0s\n",
      "[CV 5/5] END ....C=10, gamma=0.0001, kernel=rbf;, score=0.720 total time=   0.0s\n",
      "[CV 1/5] END ........C=100, gamma=1, kernel=rbf;, score=0.720 total time=   0.0s\n",
      "[CV 2/5] END ........C=100, gamma=1, kernel=rbf;, score=0.699 total time=   0.0s\n",
      "[CV 3/5] END ........C=100, gamma=1, kernel=rbf;, score=0.645 total time=   0.0s\n",
      "[CV 4/5] END ........C=100, gamma=1, kernel=rbf;, score=0.699 total time=   0.0s\n",
      "[CV 5/5] END ........C=100, gamma=1, kernel=rbf;, score=0.688 total time=   0.0s\n",
      "[CV 1/5] END ......C=100, gamma=0.1, kernel=rbf;, score=0.742 total time=   0.0s\n",
      "[CV 2/5] END ......C=100, gamma=0.1, kernel=rbf;, score=0.742 total time=   0.0s\n",
      "[CV 3/5] END ......C=100, gamma=0.1, kernel=rbf;, score=0.699 total time=   0.0s\n",
      "[CV 4/5] END ......C=100, gamma=0.1, kernel=rbf;, score=0.710 total time=   0.0s\n",
      "[CV 5/5] END ......C=100, gamma=0.1, kernel=rbf;, score=0.720 total time=   0.0s\n",
      "[CV 1/5] END .....C=100, gamma=0.01, kernel=rbf;, score=0.731 total time=   0.0s\n",
      "[CV 2/5] END .....C=100, gamma=0.01, kernel=rbf;, score=0.731 total time=   0.0s\n",
      "[CV 3/5] END .....C=100, gamma=0.01, kernel=rbf;, score=0.720 total time=   0.0s\n",
      "[CV 4/5] END .....C=100, gamma=0.01, kernel=rbf;, score=0.720 total time=   0.0s\n",
      "[CV 5/5] END .....C=100, gamma=0.01, kernel=rbf;, score=0.720 total time=   0.0s\n",
      "[CV 1/5] END ....C=100, gamma=0.001, kernel=rbf;, score=0.731 total time=   0.0s\n",
      "[CV 2/5] END ....C=100, gamma=0.001, kernel=rbf;, score=0.731 total time=   0.0s\n",
      "[CV 3/5] END ....C=100, gamma=0.001, kernel=rbf;, score=0.720 total time=   0.0s\n",
      "[CV 4/5] END ....C=100, gamma=0.001, kernel=rbf;, score=0.720 total time=   0.0s\n",
      "[CV 5/5] END ....C=100, gamma=0.001, kernel=rbf;, score=0.720 total time=   0.0s\n",
      "[CV 1/5] END ...C=100, gamma=0.0001, kernel=rbf;, score=0.731 total time=   0.0s\n",
      "[CV 2/5] END ...C=100, gamma=0.0001, kernel=rbf;, score=0.731 total time=   0.0s\n",
      "[CV 3/5] END ...C=100, gamma=0.0001, kernel=rbf;, score=0.720 total time=   0.0s\n",
      "[CV 4/5] END ...C=100, gamma=0.0001, kernel=rbf;, score=0.720 total time=   0.0s\n",
      "[CV 5/5] END ...C=100, gamma=0.0001, kernel=rbf;, score=0.720 total time=   0.0s\n",
      "[CV 1/5] END .......C=1000, gamma=1, kernel=rbf;, score=0.677 total time=   0.0s\n"
     ]
    },
    {
     "name": "stdout",
     "output_type": "stream",
     "text": [
      "[CV 2/5] END .......C=1000, gamma=1, kernel=rbf;, score=0.720 total time=   0.0s\n",
      "[CV 3/5] END .......C=1000, gamma=1, kernel=rbf;, score=0.645 total time=   0.0s\n",
      "[CV 4/5] END .......C=1000, gamma=1, kernel=rbf;, score=0.720 total time=   0.0s\n",
      "[CV 5/5] END .......C=1000, gamma=1, kernel=rbf;, score=0.624 total time=   0.0s\n",
      "[CV 1/5] END .....C=1000, gamma=0.1, kernel=rbf;, score=0.710 total time=   0.0s\n",
      "[CV 2/5] END .....C=1000, gamma=0.1, kernel=rbf;, score=0.720 total time=   0.0s\n",
      "[CV 3/5] END .....C=1000, gamma=0.1, kernel=rbf;, score=0.656 total time=   0.0s\n",
      "[CV 4/5] END .....C=1000, gamma=0.1, kernel=rbf;, score=0.710 total time=   0.0s\n",
      "[CV 5/5] END .....C=1000, gamma=0.1, kernel=rbf;, score=0.731 total time=   0.0s\n",
      "[CV 1/5] END ....C=1000, gamma=0.01, kernel=rbf;, score=0.731 total time=   0.0s\n",
      "[CV 2/5] END ....C=1000, gamma=0.01, kernel=rbf;, score=0.731 total time=   0.0s\n",
      "[CV 3/5] END ....C=1000, gamma=0.01, kernel=rbf;, score=0.699 total time=   0.0s\n",
      "[CV 4/5] END ....C=1000, gamma=0.01, kernel=rbf;, score=0.720 total time=   0.0s\n",
      "[CV 5/5] END ....C=1000, gamma=0.01, kernel=rbf;, score=0.720 total time=   0.0s\n",
      "[CV 1/5] END ...C=1000, gamma=0.001, kernel=rbf;, score=0.731 total time=   0.0s\n",
      "[CV 2/5] END ...C=1000, gamma=0.001, kernel=rbf;, score=0.731 total time=   0.0s\n",
      "[CV 3/5] END ...C=1000, gamma=0.001, kernel=rbf;, score=0.720 total time=   0.0s\n",
      "[CV 4/5] END ...C=1000, gamma=0.001, kernel=rbf;, score=0.720 total time=   0.0s\n",
      "[CV 5/5] END ...C=1000, gamma=0.001, kernel=rbf;, score=0.720 total time=   0.0s\n",
      "[CV 1/5] END ..C=1000, gamma=0.0001, kernel=rbf;, score=0.731 total time=   0.0s\n",
      "[CV 2/5] END ..C=1000, gamma=0.0001, kernel=rbf;, score=0.731 total time=   0.0s\n",
      "[CV 3/5] END ..C=1000, gamma=0.0001, kernel=rbf;, score=0.720 total time=   0.0s\n",
      "[CV 4/5] END ..C=1000, gamma=0.0001, kernel=rbf;, score=0.720 total time=   0.0s\n",
      "[CV 5/5] END ..C=1000, gamma=0.0001, kernel=rbf;, score=0.720 total time=   0.0s\n"
     ]
    },
    {
     "data": {
      "text/plain": [
       "GridSearchCV(estimator=SVC(),\n",
       "             param_grid={'C': [0.1, 1, 10, 100, 1000],\n",
       "                         'gamma': [1, 0.1, 0.01, 0.001, 0.0001],\n",
       "                         'kernel': ['rbf']},\n",
       "             verbose=3)"
      ]
     },
     "execution_count": 37,
     "metadata": {},
     "output_type": "execute_result"
    }
   ],
   "source": [
    "# defining parameter range\n",
    "param_grid = {'C': [0.1, 1, 10, 100, 1000], \n",
    "              'gamma': [1, 0.1, 0.01, 0.001, 0.0001],\n",
    "              'kernel': ['rbf']} \n",
    "  \n",
    "grid = GridSearchCV(SVC(), param_grid, refit = True, verbose = 3)\n",
    "  \n",
    "# fitting the model for grid search\n",
    "grid.fit(X_train, y_train)"
   ]
  },
  {
   "cell_type": "code",
   "execution_count": 38,
   "id": "1fbe2da2",
   "metadata": {},
   "outputs": [
    {
     "name": "stdout",
     "output_type": "stream",
     "text": [
      "{'C': 0.1, 'gamma': 1, 'kernel': 'rbf'}\n",
      "SVC(C=0.1, gamma=1)\n"
     ]
    }
   ],
   "source": [
    "# print best parameter after tuning\n",
    "print(grid.best_params_)\n",
    "  \n",
    "# print how our model looks after hyper-parameter tuning\n",
    "print(grid.best_estimator_)"
   ]
  },
  {
   "cell_type": "code",
   "execution_count": 39,
   "id": "9a8d730c",
   "metadata": {
    "scrolled": true
   },
   "outputs": [
    {
     "name": "stdout",
     "output_type": "stream",
     "text": [
      "              precision    recall  f1-score   support\n",
      "\n",
      "           1       0.67      1.00      0.80        78\n",
      "           2       0.00      0.00      0.00        39\n",
      "\n",
      "    accuracy                           0.67       117\n",
      "   macro avg       0.33      0.50      0.40       117\n",
      "weighted avg       0.44      0.67      0.53       117\n",
      "\n"
     ]
    }
   ],
   "source": [
    "grid_predictions = grid.predict(X_test)\n",
    "  \n",
    "# print classification report\n",
    "print(classification_report(y_test, grid_predictions))"
   ]
  },
  {
   "cell_type": "markdown",
   "id": "d1198522",
   "metadata": {},
   "source": [
    "### Nu Support Vector Classifier (NuSVC)"
   ]
  },
  {
   "cell_type": "code",
   "execution_count": 40,
   "id": "90bac766",
   "metadata": {},
   "outputs": [],
   "source": [
    "from sklearn.svm import NuSVC\n",
    "\n",
    "# Creating object for NuSVC\n",
    "nusvc = NuSVC() \n",
    "\n",
    "# Fitting the model\n",
    "nusvc.fit(X_train,y_train)\n",
    "\n",
    "# print prediction results\n",
    "y_predict_nusvc = nusvc.predict(X_test)"
   ]
  },
  {
   "cell_type": "code",
   "execution_count": 41,
   "id": "9991646e",
   "metadata": {},
   "outputs": [
    {
     "name": "stdout",
     "output_type": "stream",
     "text": [
      "#### Classification Report ####\n",
      "              precision    recall  f1-score   support\n",
      "\n",
      "           1       0.70      0.91      0.79        78\n",
      "           2       0.56      0.23      0.33        39\n",
      "\n",
      "    accuracy                           0.68       117\n",
      "   macro avg       0.63      0.57      0.56       117\n",
      "weighted avg       0.66      0.68      0.64       117\n",
      "\n",
      "#### Accuracy Score ####\n",
      "accuracy score :  0.6837606837606838\n",
      "\n",
      "#### Confusion Matrix ####\n",
      "[[71  7]\n",
      " [30  9]]\n"
     ]
    }
   ],
   "source": [
    "# Using function for evaluating the model output\n",
    "\n",
    "print(\"#### Classification Report ####\")\n",
    "print(classification_report(y_test,y_predict_nusvc))\n",
    "\n",
    "print(\"#### Accuracy Score ####\")\n",
    "print('accuracy score : ',accuracy_score(y_test,y_predict_nusvc))\n",
    "\n",
    "print(\"\\n#### Confusion Matrix ####\")\n",
    "print(confusion_matrix(y_test,y_predict_nusvc))"
   ]
  },
  {
   "cell_type": "markdown",
   "id": "8be66c8e",
   "metadata": {},
   "source": [
    "### ANN [MLP Classifier]"
   ]
  },
  {
   "cell_type": "code",
   "execution_count": 42,
   "id": "18ccccf8",
   "metadata": {},
   "outputs": [],
   "source": [
    "# Importing library and object creation\n",
    "from sklearn.neural_network import MLPClassifier\n",
    "\n",
    "mlpc = MLPClassifier(hidden_layer_sizes=(60,3),\n",
    "                      learning_rate='constant',\n",
    "                      max_iter=100,\n",
    "                      random_state=42)\n",
    "\n",
    "# Fitting the training data\n",
    "mlpc.fit(X_train,y_train)\n",
    "\n",
    "# print prediction results\n",
    "y_predict_mlpc = mlpc.predict(X_test)"
   ]
  },
  {
   "cell_type": "code",
   "execution_count": 43,
   "id": "03dde956",
   "metadata": {},
   "outputs": [
    {
     "name": "stdout",
     "output_type": "stream",
     "text": [
      "#### Classification Report ####\n",
      "              precision    recall  f1-score   support\n",
      "\n",
      "           1       0.68      1.00      0.81        78\n",
      "           2       1.00      0.05      0.10        39\n",
      "\n",
      "    accuracy                           0.68       117\n",
      "   macro avg       0.84      0.53      0.45       117\n",
      "weighted avg       0.79      0.68      0.57       117\n",
      "\n",
      "#### Accuracy Score ####\n",
      "accuracy score :  0.6837606837606838\n",
      "\n",
      "#### Confusion Matrix ####\n",
      "[[78  0]\n",
      " [37  2]]\n"
     ]
    }
   ],
   "source": [
    "# Using function for evaluating the model output\n",
    "\n",
    "print(\"#### Classification Report ####\")\n",
    "print(classification_report(y_test,y_predict_mlpc))\n",
    "\n",
    "print(\"#### Accuracy Score ####\")\n",
    "print('accuracy score : ',accuracy_score(y_test,y_predict_mlpc))\n",
    "\n",
    "print(\"\\n#### Confusion Matrix ####\")\n",
    "print(confusion_matrix(y_test,y_predict_mlpc))"
   ]
  },
  {
   "cell_type": "markdown",
   "id": "aed382c0",
   "metadata": {},
   "source": [
    "### ExtraTreesClassifier"
   ]
  },
  {
   "cell_type": "code",
   "execution_count": 44,
   "id": "07f440ec",
   "metadata": {},
   "outputs": [],
   "source": [
    "# importing library and object creation\n",
    "from sklearn.ensemble import ExtraTreesClassifier\n",
    "\n",
    "# Building the model\n",
    "etf = ExtraTreesClassifier(n_estimators = 5,criterion ='entropy', max_features = 2)\n",
    "\n",
    "# fitting the training data\n",
    "etf.fit(X_train,y_train)\n",
    "\n",
    "# print prediction results\n",
    "y_predict_etf = etf.predict(X_test)"
   ]
  },
  {
   "cell_type": "code",
   "execution_count": 45,
   "id": "818e50ff",
   "metadata": {},
   "outputs": [
    {
     "name": "stdout",
     "output_type": "stream",
     "text": [
      "#### Classification Report ####\n",
      "              precision    recall  f1-score   support\n",
      "\n",
      "           1       0.74      0.86      0.80        78\n",
      "           2       0.59      0.41      0.48        39\n",
      "\n",
      "    accuracy                           0.71       117\n",
      "   macro avg       0.67      0.63      0.64       117\n",
      "weighted avg       0.69      0.71      0.69       117\n",
      "\n",
      "#### Accuracy Score ####\n",
      "accuracy score :  0.7094017094017094\n",
      "\n",
      "#### Confusion Matrix ####\n",
      "[[67 11]\n",
      " [23 16]]\n"
     ]
    }
   ],
   "source": [
    "# Using function for evaluating the model output\n",
    "\n",
    "print(\"#### Classification Report ####\")\n",
    "print(classification_report(y_test,y_predict_etf))\n",
    "\n",
    "print(\"#### Accuracy Score ####\")\n",
    "print('accuracy score : ',accuracy_score(y_test,y_predict_etf))\n",
    "\n",
    "print(\"\\n#### Confusion Matrix ####\")\n",
    "print(confusion_matrix(y_test,y_predict_etf))"
   ]
  },
  {
   "cell_type": "markdown",
   "id": "968581ba",
   "metadata": {},
   "source": [
    "### AdaBoostClassifier"
   ]
  },
  {
   "cell_type": "code",
   "execution_count": 46,
   "id": "7f7e0709",
   "metadata": {},
   "outputs": [],
   "source": [
    "# importing library and object creation\n",
    "from sklearn.ensemble import AdaBoostClassifier\n",
    "\n",
    "abc =AdaBoostClassifier(n_estimators=100, random_state=0)\n",
    "\n",
    "# fitting the training data\n",
    "abc.fit(X_train,y_train)\n",
    "\n",
    "# Prediction on training data\n",
    "abc_train_predict = abc.predict(X_test)"
   ]
  },
  {
   "cell_type": "code",
   "execution_count": 47,
   "id": "7f4f4472",
   "metadata": {},
   "outputs": [
    {
     "name": "stdout",
     "output_type": "stream",
     "text": [
      "#### Classification Report ####\n",
      "              precision    recall  f1-score   support\n",
      "\n",
      "           1       0.71      0.74      0.72        78\n",
      "           2       0.43      0.38      0.41        39\n",
      "\n",
      "    accuracy                           0.62       117\n",
      "   macro avg       0.57      0.56      0.57       117\n",
      "weighted avg       0.61      0.62      0.62       117\n",
      "\n",
      "#### Accuracy Score ####\n",
      "accuracy score :  0.6239316239316239\n",
      "\n",
      "#### Confusion Matrix ####\n",
      "[[58 20]\n",
      " [24 15]]\n"
     ]
    }
   ],
   "source": [
    "# Using function for evaluating the model output\n",
    "\n",
    "print(\"#### Classification Report ####\")\n",
    "print(classification_report(y_test,abc_train_predict))\n",
    "\n",
    "print(\"#### Accuracy Score ####\")\n",
    "print('accuracy score : ',accuracy_score(y_test,abc_train_predict))\n",
    "\n",
    "print(\"\\n#### Confusion Matrix ####\")\n",
    "print(confusion_matrix(y_test,abc_train_predict))"
   ]
  },
  {
   "cell_type": "markdown",
   "id": "74e81d74",
   "metadata": {},
   "source": [
    "#### Conclusion"
   ]
  },
  {
   "cell_type": "markdown",
   "id": "ff9d7aaf",
   "metadata": {},
   "source": [
    "In accordance with the specified objects, the dataset has been reviewed, a model has been built, and the problems have been read using test data. We attempted to use every system in the design at hand, and since the title train was absent from the dataset, we created one. After that, we used significant algorithms, performed their hyperparameter calculations, and sought to achieve the best fit possible for the design, which we did by using the DecisionTreeClassifier algorithm."
   ]
  },
  {
   "cell_type": "code",
   "execution_count": null,
   "id": "93417df6",
   "metadata": {},
   "outputs": [],
   "source": []
  }
 ],
 "metadata": {
  "kernelspec": {
   "display_name": "Python 3 (ipykernel)",
   "language": "python",
   "name": "python3"
  },
  "language_info": {
   "codemirror_mode": {
    "name": "ipython",
    "version": 3
   },
   "file_extension": ".py",
   "mimetype": "text/x-python",
   "name": "python",
   "nbconvert_exporter": "python",
   "pygments_lexer": "ipython3",
   "version": "3.9.16"
  }
 },
 "nbformat": 4,
 "nbformat_minor": 5
}
